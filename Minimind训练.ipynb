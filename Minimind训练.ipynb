{
  "cells": [
    {
      "cell_type": "markdown",
      "metadata": {
        "id": "view-in-github",
        "colab_type": "text"
      },
      "source": [
        "<a href=\"https://colab.research.google.com/github/try-agaaain/minimind/blob/master/Minimind%E8%AE%AD%E7%BB%83.ipynb\" target=\"_parent\"><img src=\"https://colab.research.google.com/assets/colab-badge.svg\" alt=\"Open In Colab\"/></a>"
      ]
    },
    {
      "cell_type": "markdown",
      "source": [
        "## 挂载Google Drive并下载数据集"
      ],
      "metadata": {
        "id": "dwz-7S8hX3Xp"
      }
    },
    {
      "cell_type": "code",
      "execution_count": null,
      "metadata": {
        "colab": {
          "base_uri": "https://localhost:8080/"
        },
        "id": "y0-q13Z7JKm6",
        "outputId": "0bc4078a-3d57-4fb1-87c2-358a202ec9b5"
      },
      "outputs": [
        {
          "output_type": "stream",
          "name": "stdout",
          "text": [
            "Drive already mounted at /content/drive; to attempt to forcibly remount, call drive.mount(\"/content/drive\", force_remount=True).\n",
            "Google Drive mounted successfully.\n",
            "/content\n",
            "Minimind folder found in Google Drive.\n",
            "/content/drive/MyDrive/minimind\n",
            "Checking for updates in the minimind repository...\n",
            "Already up to date.\n",
            "pretrain_hq.jsonl found.\n"
          ]
        }
      ],
      "source": [
        "# prompt: 挂载google云端硬盘，判断其中是否有minimind这个文件夹，\n",
        "# 如果不存在，则从https://github.com/try-agaaain/minimind.git拉取，\n",
        "# 然后再判断是否存在minimind/dataset/pretrain_hq.jsonl文件，\n",
        "# 如果不存在，则从https://www.modelscope.cn/datasets/gongjy/minimind_dataset/resolve/master/pretrain_hq.jsonl下载，\n",
        "# 最后进入到minimind文件夹，通过pip install torch torchvision torchaudio --index-url https://download.pytorch.org/whl/cu118 安装torch，\n",
        "# 再去安装requirements.txt所需要的包，最后运行!python train_pretrain.py\n",
        "\n",
        "import os\n",
        "from google.colab import drive\n",
        "\n",
        "# Attempt to mount Google Drive\n",
        "# When this line is executed, you should see a prompt to authorize access to your Google Drive.\n",
        "# Make sure to follow the instructions and complete the authentication process.\n",
        "try:\n",
        "    drive.mount('/content/drive')\n",
        "    print(\"Google Drive mounted successfully.\")\n",
        "    %cd /content/\n",
        "except ValueError as e:\n",
        "    print(f\"Error mounting Google Drive: {e}\")\n",
        "    print(\"Please ensure you have completed the authentication steps when prompted.\")\n",
        "    # You might want to exit or handle the error further if mounting fails\n",
        "    # exit() # Uncomment to stop execution if mounting fails\n",
        "\n",
        "# Define the path to the minimind folder in Google Drive\n",
        "clone_path = '/content/drive/MyDrive'\n",
        "minimind_folder_path = '/content/drive/MyDrive/minimind'\n",
        "\n",
        "# Check if the minimind folder exists\n",
        "if not os.path.exists(minimind_folder_path):\n",
        "  print(\"Minimind folder not found in Google Drive. Cloning from GitHub...\")\n",
        "  # If not, clone the repository from GitHub\n",
        "  !git clone https://github.com/try-agaaain/minimind.git {minimind_folder_path}\n",
        "else:\n",
        "  print(\"Minimind folder found in Google Drive.\")\n",
        "  # If it exists, change directory to it to potentially pull updates\n",
        "  %cd {minimind_folder_path}\n",
        "  print(\"Checking for updates in the minimind repository...\")\n",
        "  # Optional: Pull latest changes\n",
        "  !git pull\n",
        "\n",
        "# Define the path to the pretrain_hq.jsonl file\n",
        "pretrain_hq_file_path = os.path.join(minimind_folder_path, 'dataset', 'pretrain_hq.jsonl')\n",
        "\n",
        "# Check if the pretrain_hq.jsonl file exists\n",
        "if not os.path.exists(pretrain_hq_file_path):\n",
        "  print(\"pretrain_hq.jsonl not found. Downloading from ModelScope...\")\n",
        "  # If not, download the file\n",
        "  # Ensure the dataset directory exists before downloading\n",
        "  dataset_dir = os.path.join(minimind_folder_path, 'dataset')\n",
        "  if not os.path.exists(dataset_dir):\n",
        "      os.makedirs(dataset_dir)\n",
        "  !wget -c https://www.modelscope.cn/datasets/gongjy/minimind_dataset/resolve/master/pretrain_hq.jsonl -O {pretrain_hq_file_path}\n",
        "\n",
        "\n",
        "else:\n",
        "  print(\"pretrain_hq.jsonl found.\")"
      ]
    },
    {
      "cell_type": "markdown",
      "source": [
        "## 安装虚拟环境"
      ],
      "metadata": {
        "id": "Fp4Y35MrJhQj"
      }
    },
    {
      "cell_type": "code",
      "source": [
        "!pip install virtualenv\n",
        "%cd /content\n",
        "!virtualenv minimind_env\n",
        "env_bin_path = \"/content/minimind_env/bin/\"\n",
        "env_pip3 = env_bin_path + \"pip3\"\n",
        "env_activate = env_bin_path + \"activate\"\n",
        "minimind_folder_path = '/content/drive/MyDrive/minimind'\n",
        "\n",
        "!{env_pip3} install -r requirements.txt\n"
      ],
      "metadata": {
        "colab": {
          "base_uri": "https://localhost:8080/"
        },
        "id": "ILZgB3sAJmqX",
        "outputId": "7fcd0d0e-2333-42a3-f4eb-810a19fdbb5c"
      },
      "execution_count": null,
      "outputs": [
        {
          "output_type": "stream",
          "name": "stdout",
          "text": [
            "/content\n",
            "created virtual environment CPython3.11.12.final.0-64 in 260ms\n",
            "  creator CPython3Posix(dest=/content/minimind_env, clear=False, no_vcs_ignore=False, global=False)\n",
            "  seeder FromAppData(download=False, pip=bundle, setuptools=bundle, via=copy, app_data_dir=/root/.local/share/virtualenv)\n",
            "    added seed packages: pip==25.1.1, setuptools==80.3.1\n",
            "  activators BashActivator,CShellActivator,FishActivator,NushellActivator,PowerShellActivator,PythonActivator\n"
          ]
        }
      ]
    },
    {
      "cell_type": "markdown",
      "source": [
        "## 预训练"
      ],
      "metadata": {
        "id": "qwZbekzPXoUk"
      }
    },
    {
      "cell_type": "code",
      "source": [
        "minimind_folder_path = '/content/drive/MyDrive/minimind'\n",
        "minimind_env_python3 = env_bin_path + \"python3\"\n",
        "%cd {minimind_folder_path}\n",
        "!{minimind_env_python3} train_pretrain.py"
      ],
      "metadata": {
        "colab": {
          "base_uri": "https://localhost:8080/"
        },
        "id": "244adLJuKE75",
        "outputId": "58892b76-1c1b-4511-b5f6-6007caccd7c5"
      },
      "execution_count": null,
      "outputs": [
        {
          "metadata": {
            "tags": null
          },
          "name": "stdout",
          "output_type": "stream",
          "text": [
            "/content/drive/MyDrive/minimind\n",
            "2025-05-19 06:16:27.263236: E external/local_xla/xla/stream_executor/cuda/cuda_fft.cc:477] Unable to register cuFFT factory: Attempting to register factory for plugin cuFFT when one has already been registered\n",
            "WARNING: All log messages before absl::InitializeLog() is called are written to STDERR\n",
            "E0000 00:00:1747635387.524562   13308 cuda_dnn.cc:8310] Unable to register cuDNN factory: Attempting to register factory for plugin cuDNN when one has already been registered\n",
            "E0000 00:00:1747635387.599382   13308 cuda_blas.cc:1418] Unable to register cuBLAS factory: Attempting to register factory for plugin cuBLAS when one has already been registered\n",
            "2025-05-19 06:16:28.183742: I tensorflow/core/platform/cpu_feature_guard.cc:210] This TensorFlow binary is optimized to use available CPU instructions in performance-critical operations.\n",
            "To enable the following instructions: AVX2 FMA, in other operations, rebuild TensorFlow with the appropriate compiler flags.\n",
            "LLM总参数量：25.830 百万\n",
            "Epoch:[1/1](0/44160) loss:8.980 lr:0.000550000000 epoch_Time:1469.0min:\n",
            "Epoch:[1/1](100/44160) loss:5.420 lr:0.000549993674 epoch_Time:220.0min:\n",
            "Epoch:[1/1](200/44160) loss:4.982 lr:0.000549974695 epoch_Time:215.0min:\n",
            "Epoch:[1/1](300/44160) loss:5.584 lr:0.000549943065 epoch_Time:215.0min:\n",
            "Epoch:[1/1](400/44160) loss:4.479 lr:0.000549898786 epoch_Time:217.0min:\n",
            "Epoch:[1/1](500/44160) loss:4.648 lr:0.000549841859 epoch_Time:217.0min:\n",
            "Epoch:[1/1](600/44160) loss:4.606 lr:0.000549772287 epoch_Time:217.0min:\n",
            "Epoch:[1/1](700/44160) loss:4.138 lr:0.000549690074 epoch_Time:217.0min:\n",
            "Epoch:[1/1](800/44160) loss:4.070 lr:0.000549595224 epoch_Time:216.0min:\n",
            "Epoch:[1/1](900/44160) loss:3.966 lr:0.000549487743 epoch_Time:217.0min:\n",
            "Epoch:[1/1](1000/44160) loss:3.760 lr:0.000549367634 epoch_Time:216.0min:\n",
            "Epoch:[1/1](1100/44160) loss:3.878 lr:0.000549234905 epoch_Time:216.0min:\n",
            "Epoch:[1/1](1200/44160) loss:3.727 lr:0.000549089562 epoch_Time:215.0min:\n",
            "Epoch:[1/1](1300/44160) loss:3.661 lr:0.000548931613 epoch_Time:215.0min:\n",
            "Epoch:[1/1](1400/44160) loss:3.545 lr:0.000548761065 epoch_Time:215.0min:\n",
            "Epoch:[1/1](1500/44160) loss:4.306 lr:0.000548577927 epoch_Time:215.0min:\n",
            "Epoch:[1/1](1600/44160) loss:3.490 lr:0.000548382208 epoch_Time:214.0min:\n",
            "Epoch:[1/1](1700/44160) loss:3.857 lr:0.000548173919 epoch_Time:214.0min:\n",
            "Epoch:[1/1](1800/44160) loss:3.734 lr:0.000547953069 epoch_Time:213.0min:\n",
            "Epoch:[1/1](1900/44160) loss:3.386 lr:0.000547719671 epoch_Time:213.0min:\n",
            "Epoch:[1/1](2000/44160) loss:3.177 lr:0.000547473735 epoch_Time:212.0min:\n",
            "Epoch:[1/1](2100/44160) loss:2.991 lr:0.000547215275 epoch_Time:212.0min:\n",
            "Epoch:[1/1](2200/44160) loss:2.861 lr:0.000546944303 epoch_Time:211.0min:\n",
            "Epoch:[1/1](2300/44160) loss:4.289 lr:0.000546660833 epoch_Time:211.0min:\n",
            "Epoch:[1/1](2400/44160) loss:3.099 lr:0.000546364879 epoch_Time:210.0min:\n",
            "Epoch:[1/1](2500/44160) loss:4.457 lr:0.000546056457 epoch_Time:210.0min:\n",
            "Epoch:[1/1](2600/44160) loss:3.346 lr:0.000545735582 epoch_Time:209.0min:\n",
            "Epoch:[1/1](2700/44160) loss:3.300 lr:0.000545402270 epoch_Time:209.0min:\n",
            "Epoch:[1/1](2800/44160) loss:2.869 lr:0.000545056538 epoch_Time:208.0min:\n",
            "Epoch:[1/1](2900/44160) loss:3.052 lr:0.000544698404 epoch_Time:208.0min:\n",
            "Epoch:[1/1](3000/44160) loss:3.495 lr:0.000544327885 epoch_Time:207.0min:\n",
            "Epoch:[1/1](3100/44160) loss:2.952 lr:0.000543945001 epoch_Time:207.0min:\n",
            "Epoch:[1/1](3200/44160) loss:3.171 lr:0.000543549771 epoch_Time:206.0min:\n",
            "Epoch:[1/1](3300/44160) loss:2.778 lr:0.000543142214 epoch_Time:206.0min:\n",
            "Epoch:[1/1](3400/44160) loss:2.623 lr:0.000542722352 epoch_Time:205.0min:\n",
            "Epoch:[1/1](3500/44160) loss:3.458 lr:0.000542290206 epoch_Time:205.0min:\n",
            "Epoch:[1/1](3600/44160) loss:2.552 lr:0.000541845797 epoch_Time:204.0min:\n",
            "Epoch:[1/1](3700/44160) loss:3.025 lr:0.000541389149 epoch_Time:204.0min:\n",
            "Epoch:[1/1](3800/44160) loss:2.555 lr:0.000540920283 epoch_Time:203.0min:\n",
            "Epoch:[1/1](3900/44160) loss:2.356 lr:0.000540439225 epoch_Time:203.0min:\n",
            "Epoch:[1/1](4000/44160) loss:2.306 lr:0.000539945998 epoch_Time:202.0min:\n",
            "Epoch:[1/1](4100/44160) loss:2.574 lr:0.000539440627 epoch_Time:202.0min:\n",
            "Epoch:[1/1](4200/44160) loss:2.911 lr:0.000538923138 epoch_Time:201.0min:\n",
            "Epoch:[1/1](4300/44160) loss:2.503 lr:0.000538393557 epoch_Time:201.0min:\n",
            "Epoch:[1/1](4400/44160) loss:2.375 lr:0.000537851910 epoch_Time:200.0min:\n",
            "Epoch:[1/1](4500/44160) loss:2.225 lr:0.000537298226 epoch_Time:200.0min:\n",
            "Epoch:[1/1](4600/44160) loss:2.262 lr:0.000536732532 epoch_Time:199.0min:\n",
            "Epoch:[1/1](4700/44160) loss:2.781 lr:0.000536154857 epoch_Time:199.0min:\n",
            "Epoch:[1/1](4800/44160) loss:2.802 lr:0.000535565231 epoch_Time:198.0min:\n",
            "Epoch:[1/1](4900/44160) loss:2.409 lr:0.000534963682 epoch_Time:198.0min:\n",
            "Epoch:[1/1](5000/44160) loss:2.238 lr:0.000534350241 epoch_Time:197.0min:\n",
            "Epoch:[1/1](5100/44160) loss:2.143 lr:0.000533724940 epoch_Time:197.0min:\n",
            "Epoch:[1/1](5200/44160) loss:2.779 lr:0.000533087810 epoch_Time:196.0min:\n",
            "Epoch:[1/1](5300/44160) loss:2.397 lr:0.000532438883 epoch_Time:196.0min:\n",
            "Epoch:[1/1](5400/44160) loss:2.900 lr:0.000531778193 epoch_Time:195.0min:\n",
            "Epoch:[1/1](5500/44160) loss:2.712 lr:0.000531105772 epoch_Time:195.0min:\n",
            "Epoch:[1/1](5600/44160) loss:2.379 lr:0.000530421655 epoch_Time:194.0min:\n",
            "Epoch:[1/1](5700/44160) loss:2.520 lr:0.000529725876 epoch_Time:194.0min:\n",
            "Epoch:[1/1](5800/44160) loss:2.673 lr:0.000529018470 epoch_Time:193.0min:\n",
            "Epoch:[1/1](5900/44160) loss:2.266 lr:0.000528299474 epoch_Time:193.0min:\n",
            "Epoch:[1/1](6000/44160) loss:2.294 lr:0.000527568924 epoch_Time:192.0min:\n",
            "Epoch:[1/1](6100/44160) loss:2.652 lr:0.000526826856 epoch_Time:192.0min:\n",
            "Epoch:[1/1](6200/44160) loss:2.217 lr:0.000526073308 epoch_Time:191.0min:\n",
            "Epoch:[1/1](6300/44160) loss:3.199 lr:0.000525308319 epoch_Time:191.0min:\n",
            "Epoch:[1/1](6400/44160) loss:3.343 lr:0.000524531926 epoch_Time:190.0min:\n",
            "Epoch:[1/1](6500/44160) loss:2.299 lr:0.000523744170 epoch_Time:190.0min:\n",
            "Epoch:[1/1](6600/44160) loss:2.491 lr:0.000522945091 epoch_Time:189.0min:\n",
            "Epoch:[1/1](6700/44160) loss:4.225 lr:0.000522134728 epoch_Time:189.0min:\n",
            "Epoch:[1/1](6800/44160) loss:2.205 lr:0.000521313122 epoch_Time:188.0min:\n",
            "Epoch:[1/1](6900/44160) loss:2.038 lr:0.000520480316 epoch_Time:188.0min:\n",
            "Epoch:[1/1](7000/44160) loss:2.255 lr:0.000519636351 epoch_Time:187.0min:\n",
            "Epoch:[1/1](7100/44160) loss:2.256 lr:0.000518781271 epoch_Time:187.0min:\n",
            "Epoch:[1/1](7200/44160) loss:2.003 lr:0.000517915118 epoch_Time:186.0min:\n",
            "Epoch:[1/1](7300/44160) loss:3.049 lr:0.000517037936 epoch_Time:186.0min:\n",
            "Epoch:[1/1](7400/44160) loss:2.483 lr:0.000516149769 epoch_Time:185.0min:\n",
            "Epoch:[1/1](7500/44160) loss:2.103 lr:0.000515250663 epoch_Time:185.0min:\n",
            "Epoch:[1/1](7600/44160) loss:2.310 lr:0.000514340664 epoch_Time:184.0min:\n",
            "Epoch:[1/1](7700/44160) loss:2.591 lr:0.000513419816 epoch_Time:184.0min:\n",
            "Epoch:[1/1](7800/44160) loss:2.641 lr:0.000512488167 epoch_Time:183.0min:\n",
            "Epoch:[1/1](7900/44160) loss:2.058 lr:0.000511545764 epoch_Time:183.0min:\n",
            "Epoch:[1/1](8000/44160) loss:2.553 lr:0.000510592655 epoch_Time:182.0min:\n",
            "Epoch:[1/1](8100/44160) loss:2.253 lr:0.000509628887 epoch_Time:182.0min:\n",
            "Epoch:[1/1](8200/44160) loss:2.160 lr:0.000508654510 epoch_Time:181.0min:\n",
            "Epoch:[1/1](8300/44160) loss:2.398 lr:0.000507669573 epoch_Time:181.0min:\n",
            "Epoch:[1/1](8400/44160) loss:2.142 lr:0.000506674126 epoch_Time:180.0min:\n",
            "Epoch:[1/1](8500/44160) loss:2.686 lr:0.000505668219 epoch_Time:180.0min:\n",
            "Epoch:[1/1](8600/44160) loss:2.520 lr:0.000504651903 epoch_Time:179.0min:\n",
            "Epoch:[1/1](8700/44160) loss:2.195 lr:0.000503625229 epoch_Time:179.0min:\n",
            "Epoch:[1/1](8800/44160) loss:2.219 lr:0.000502588250 epoch_Time:178.0min:\n",
            "Epoch:[1/1](8900/44160) loss:2.419 lr:0.000501541018 epoch_Time:178.0min:\n",
            "Epoch:[1/1](9000/44160) loss:1.963 lr:0.000500483585 epoch_Time:177.0min:\n",
            "Epoch:[1/1](9100/44160) loss:2.597 lr:0.000499416006 epoch_Time:177.0min:\n",
            "Epoch:[1/1](9200/44160) loss:1.988 lr:0.000498338335 epoch_Time:176.0min:\n",
            "Epoch:[1/1](9300/44160) loss:2.462 lr:0.000497250626 epoch_Time:176.0min:\n",
            "Epoch:[1/1](9400/44160) loss:2.249 lr:0.000496152933 epoch_Time:175.0min:\n",
            "Epoch:[1/1](9500/44160) loss:2.919 lr:0.000495045314 epoch_Time:175.0min:\n",
            "Epoch:[1/1](9600/44160) loss:2.549 lr:0.000493927823 epoch_Time:174.0min:\n",
            "Epoch:[1/1](9700/44160) loss:2.780 lr:0.000492800517 epoch_Time:174.0min:\n",
            "Epoch:[1/1](9800/44160) loss:2.137 lr:0.000491663453 epoch_Time:173.0min:\n",
            "Epoch:[1/1](9900/44160) loss:1.443 lr:0.000490516690 epoch_Time:173.0min:\n",
            "Epoch:[1/1](10000/44160) loss:2.216 lr:0.000489360284 epoch_Time:172.0min:\n",
            "Epoch:[1/1](10100/44160) loss:2.281 lr:0.000488194295 epoch_Time:172.0min:\n",
            "Epoch:[1/1](10200/44160) loss:2.173 lr:0.000487018781 epoch_Time:171.0min:\n",
            "Epoch:[1/1](10300/44160) loss:2.301 lr:0.000485833802 epoch_Time:171.0min:\n",
            "Epoch:[1/1](10400/44160) loss:2.173 lr:0.000484639417 epoch_Time:170.0min:\n",
            "Epoch:[1/1](10500/44160) loss:2.056 lr:0.000483435689 epoch_Time:170.0min:\n",
            "Epoch:[1/1](10600/44160) loss:2.116 lr:0.000482222676 epoch_Time:169.0min:\n",
            "Epoch:[1/1](10700/44160) loss:2.015 lr:0.000481000441 epoch_Time:169.0min:\n",
            "Epoch:[1/1](10800/44160) loss:2.153 lr:0.000479769045 epoch_Time:168.0min:\n",
            "Epoch:[1/1](10900/44160) loss:2.104 lr:0.000478528552 epoch_Time:168.0min:\n",
            "Epoch:[1/1](11000/44160) loss:2.213 lr:0.000477279023 epoch_Time:167.0min:\n",
            "Epoch:[1/1](11100/44160) loss:2.626 lr:0.000476020521 epoch_Time:167.0min:\n",
            "Epoch:[1/1](11200/44160) loss:2.029 lr:0.000474753112 epoch_Time:166.0min:\n",
            "Epoch:[1/1](11300/44160) loss:2.212 lr:0.000473476858 epoch_Time:166.0min:\n",
            "Epoch:[1/1](11400/44160) loss:2.400 lr:0.000472191824 epoch_Time:165.0min:\n",
            "Epoch:[1/1](11500/44160) loss:2.046 lr:0.000470898076 epoch_Time:165.0min:\n",
            "Epoch:[1/1](11600/44160) loss:2.512 lr:0.000469595678 epoch_Time:164.0min:\n",
            "Epoch:[1/1](11700/44160) loss:2.809 lr:0.000468284697 epoch_Time:164.0min:\n",
            "Epoch:[1/1](11800/44160) loss:2.459 lr:0.000466965199 epoch_Time:163.0min:\n",
            "Epoch:[1/1](11900/44160) loss:3.468 lr:0.000465637251 epoch_Time:163.0min:\n",
            "Epoch:[1/1](12000/44160) loss:2.468 lr:0.000464300920 epoch_Time:162.0min:\n",
            "Epoch:[1/1](12100/44160) loss:3.526 lr:0.000462956273 epoch_Time:162.0min:\n",
            "Epoch:[1/1](12200/44160) loss:2.328 lr:0.000461603380 epoch_Time:161.0min:\n",
            "Epoch:[1/1](12300/44160) loss:1.981 lr:0.000460242307 epoch_Time:161.0min:\n",
            "Epoch:[1/1](12400/44160) loss:2.437 lr:0.000458873125 epoch_Time:160.0min:\n",
            "Epoch:[1/1](12500/44160) loss:1.991 lr:0.000457495902 epoch_Time:160.0min:\n",
            "Epoch:[1/1](12600/44160) loss:2.574 lr:0.000456110708 epoch_Time:159.0min:\n",
            "Epoch:[1/1](12700/44160) loss:2.204 lr:0.000454717613 epoch_Time:159.0min:\n",
            "Epoch:[1/1](12800/44160) loss:2.107 lr:0.000453316688 epoch_Time:158.0min:\n",
            "Epoch:[1/1](12900/44160) loss:2.150 lr:0.000451908003 epoch_Time:158.0min:\n",
            "Epoch:[1/1](13000/44160) loss:1.907 lr:0.000450491630 epoch_Time:157.0min:\n"
          ]
        }
      ]
    }
  ],
  "metadata": {
    "colab": {
      "provenance": [],
      "mount_file_id": "1kptYbPP4RkpsWxmukas_Fl4-Nz_EkArm",
      "authorship_tag": "ABX9TyO1zM1r7zbH+Zjujii1H6n0",
      "include_colab_link": true
    },
    "kernelspec": {
      "display_name": "Python 3",
      "name": "python3"
    },
    "language_info": {
      "name": "python"
    }
  },
  "nbformat": 4,
  "nbformat_minor": 0
}